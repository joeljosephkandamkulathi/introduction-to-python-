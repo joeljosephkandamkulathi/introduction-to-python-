{
  "nbformat": 4,
  "nbformat_minor": 0,
  "metadata": {
    "colab": {
      "name": "03 basics ipynb ",
      "provenance": []
    },
    "kernelspec": {
      "name": "python3",
      "display_name": "Python 3"
    },
    "language_info": {
      "name": "python"
    }
  },
  "cells": [
    {
      "cell_type": "code",
      "execution_count": null,
      "metadata": {
        "id": "mTDCy5ClyVFe"
      },
      "outputs": [],
      "source": [
        "x=20 "
      ]
    },
    {
      "cell_type": "code",
      "source": [
        "if x>10:\n",
        "   print('x>10')"
      ],
      "metadata": {
        "colab": {
          "base_uri": "https://localhost:8080/"
        },
        "id": "VjuanDzr0X0G",
        "outputId": "19a6293d-f228-425e-b93a-b7d74ecb1917"
      },
      "execution_count": null,
      "outputs": [
        {
          "output_type": "stream",
          "name": "stdout",
          "text": [
            "x>10\n"
          ]
        }
      ]
    },
    {
      "cell_type": "code",
      "source": [
        "x=20 \n",
        "if x>10:\n",
        "  print ('x>10')\n",
        "if x<10:\n",
        "  print ('x<10')\n",
        "if x==10:\n",
        "  print ('x==10')"
      ],
      "metadata": {
        "colab": {
          "base_uri": "https://localhost:8080/"
        },
        "id": "RF-3tMUC1Gej",
        "outputId": "55c29d4f-14c5-4917-ac35-0c61358a3343"
      },
      "execution_count": null,
      "outputs": [
        {
          "output_type": "stream",
          "name": "stdout",
          "text": [
            "x>10\n"
          ]
        }
      ]
    },
    {
      "cell_type": "code",
      "source": [
        "x= int(input('enter your mark'))\n",
        "if x>100:\n",
        "  print('pass')\n",
        "if x<100:\n",
        "  print('fail')\n",
        "if x==100:\n",
        "  print('just pass')  \n",
        "\n",
        "\n"
      ],
      "metadata": {
        "colab": {
          "base_uri": "https://localhost:8080/"
        },
        "id": "RjcdbaNC6c-R",
        "outputId": "e6c11ea4-6178-45a9-fd8b-a1d3f8cfca2c"
      },
      "execution_count": null,
      "outputs": [
        {
          "output_type": "stream",
          "name": "stdout",
          "text": [
            "enter your mark67\n",
            "fail\n"
          ]
        }
      ]
    },
    {
      "cell_type": "code",
      "source": [
        "x=int(input('enter your salary'))\n",
        "if x<250000:\n",
        "  print('you are not taxable')\n",
        "if x>250000:\n",
        "  print (x*10/100)\n",
        "  print('you are taxable')  \n",
        "\n"
      ],
      "metadata": {
        "colab": {
          "base_uri": "https://localhost:8080/"
        },
        "id": "bzepg1SoBXmX",
        "outputId": "49893de7-d0a3-468a-f792-afbde9d7ae78"
      },
      "execution_count": null,
      "outputs": [
        {
          "output_type": "stream",
          "name": "stdout",
          "text": [
            "enter your salary400000\n",
            "40000.0\n",
            "you are taxable\n"
          ]
        }
      ]
    },
    {
      "cell_type": "code",
      "source": [
        ""
      ],
      "metadata": {
        "id": "Mvp_tqsiF9kz"
      },
      "execution_count": null,
      "outputs": []
    }
  ]
}